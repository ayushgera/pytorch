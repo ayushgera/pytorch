{
 "cells": [
  {
   "cell_type": "code",
   "execution_count": 8,
   "metadata": {},
   "outputs": [],
   "source": [
    "import torch\n",
    "import torch.nn as nn"
   ]
  },
  {
   "cell_type": "code",
   "execution_count": 9,
   "metadata": {},
   "outputs": [],
   "source": [
    "n_in, n_h, n_out, batch_size= 10, 5, 1, 10"
   ]
  },
  {
   "cell_type": "code",
   "execution_count": 10,
   "metadata": {},
   "outputs": [],
   "source": [
    "x= torch.randn(batch_size, n_in)"
   ]
  },
  {
   "cell_type": "code",
   "execution_count": 11,
   "metadata": {},
   "outputs": [],
   "source": [
    "y= torch.tensor([[1.0], [0.0], [0.0], [1.0], [1.0], [1.0], [0.0], [0.0], [1.0], [1.0]])"
   ]
  },
  {
   "cell_type": "code",
   "execution_count": 17,
   "metadata": {},
   "outputs": [],
   "source": [
    "model= nn.Sequential(nn.Linear(n_in, n_h),\n",
    "                     nn.ReLU(),\n",
    "                     nn.Linear(n_h, n_out),\n",
    "                     nn.Sigmoid())"
   ]
  },
  {
   "cell_type": "code",
   "execution_count": 18,
   "metadata": {},
   "outputs": [],
   "source": [
    "criterion= nn.MSELoss()"
   ]
  },
  {
   "cell_type": "code",
   "execution_count": 19,
   "metadata": {},
   "outputs": [],
   "source": [
    "optimiser= torch.optim.SGD(model.parameters(), lr=0.01)"
   ]
  },
  {
   "cell_type": "code",
   "execution_count": 20,
   "metadata": {},
   "outputs": [
    {
     "name": "stdout",
     "output_type": "stream",
     "text": [
      "epoch:  0  loss:  0.22689855098724365\n",
      "epoch:  1  loss:  0.22679395973682404\n",
      "epoch:  2  loss:  0.2266893833875656\n",
      "epoch:  3  loss:  0.226584792137146\n",
      "epoch:  4  loss:  0.226480171084404\n",
      "epoch:  5  loss:  0.226375550031662\n",
      "epoch:  6  loss:  0.22627092897891998\n",
      "epoch:  7  loss:  0.22616629302501678\n",
      "epoch:  8  loss:  0.2260616272687912\n",
      "epoch:  9  loss:  0.2259569615125656\n",
      "epoch:  10  loss:  0.22585228085517883\n",
      "epoch:  11  loss:  0.22574760019779205\n",
      "epoch:  12  loss:  0.2256428748369217\n",
      "epoch:  13  loss:  0.22553816437721252\n",
      "epoch:  14  loss:  0.22543342411518097\n",
      "epoch:  15  loss:  0.22532866895198822\n",
      "epoch:  16  loss:  0.22522388398647308\n",
      "epoch:  17  loss:  0.22511909902095795\n",
      "epoch:  18  loss:  0.22501428425312042\n",
      "epoch:  19  loss:  0.2249094545841217\n",
      "epoch:  20  loss:  0.2248045951128006\n",
      "epoch:  21  loss:  0.2246997207403183\n",
      "epoch:  22  loss:  0.224594846367836\n",
      "epoch:  23  loss:  0.22448992729187012\n",
      "epoch:  24  loss:  0.22438497841358185\n",
      "epoch:  25  loss:  0.22428002953529358\n",
      "epoch:  26  loss:  0.22417505085468292\n",
      "epoch:  27  loss:  0.22407004237174988\n",
      "epoch:  28  loss:  0.22396500408649445\n",
      "epoch:  29  loss:  0.22385995090007782\n",
      "epoch:  30  loss:  0.2237548828125\n",
      "epoch:  31  loss:  0.2236497700214386\n",
      "epoch:  32  loss:  0.2235446274280548\n",
      "epoch:  33  loss:  0.22343945503234863\n",
      "epoch:  34  loss:  0.22333428263664246\n",
      "epoch:  35  loss:  0.2232290506362915\n",
      "epoch:  36  loss:  0.22312380373477936\n",
      "epoch:  37  loss:  0.22301851212978363\n",
      "epoch:  38  loss:  0.2229132056236267\n",
      "epoch:  39  loss:  0.2228078693151474\n",
      "epoch:  40  loss:  0.2227025032043457\n",
      "epoch:  41  loss:  0.22259709239006042\n",
      "epoch:  42  loss:  0.22249165177345276\n",
      "epoch:  43  loss:  0.2223861813545227\n",
      "epoch:  44  loss:  0.22228068113327026\n",
      "epoch:  45  loss:  0.22217513620853424\n",
      "epoch:  46  loss:  0.22206959128379822\n",
      "epoch:  47  loss:  0.22196398675441742\n",
      "epoch:  48  loss:  0.22185833752155304\n",
      "epoch:  49  loss:  0.22175267338752747\n"
     ]
    }
   ],
   "source": [
    "for epoch in range(50):\n",
    "    # Forward Propagation\n",
    "    y_pred= model(x)\n",
    "    # Compute and print the loss\n",
    "    loss= criterion(y_pred, y)\n",
    "    print('epoch: ', epoch,' loss: ', loss.item())\n",
    "    # Zero the gradients\n",
    "    optimiser.zero_grad()\n",
    "    # Perform backpropagation\n",
    "    loss.backward()\n",
    "    # Update the parameters\n",
    "    optimiser.step()"
   ]
  },
  {
   "cell_type": "code",
   "execution_count": null,
   "metadata": {},
   "outputs": [],
   "source": []
  }
 ],
 "metadata": {
  "kernelspec": {
   "display_name": "Python 3",
   "language": "python",
   "name": "python3"
  },
  "language_info": {
   "codemirror_mode": {
    "name": "ipython",
    "version": 3
   },
   "file_extension": ".py",
   "mimetype": "text/x-python",
   "name": "python",
   "nbconvert_exporter": "python",
   "pygments_lexer": "ipython3",
   "version": "3.7.1"
  }
 },
 "nbformat": 4,
 "nbformat_minor": 2
}
